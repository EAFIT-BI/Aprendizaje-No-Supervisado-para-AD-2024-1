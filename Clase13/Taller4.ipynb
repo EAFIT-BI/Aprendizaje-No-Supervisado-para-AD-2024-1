{
  "nbformat": 4,
  "nbformat_minor": 0,
  "metadata": {
    "colab": {
      "provenance": []
    },
    "kernelspec": {
      "name": "python3",
      "display_name": "Python 3"
    },
    "language_info": {
      "name": "python"
    }
  },
  "cells": [
    {
      "cell_type": "markdown",
      "source": [
        "# Taller de preprocesamiento para análisis de sentimientos"
      ],
      "metadata": {
        "id": "MJmqHEp4YaVc"
      }
    },
    {
      "cell_type": "markdown",
      "source": [
        "\n",
        "1.   Descargar el archivo de reviews disponible en https://zenodo.org/records/1000885\n",
        "Este conjunto de datos contiene más de 6,4 millones de reseñas disponibles públicamente en inglés de la sección Reseñas de Steam de la tienda Steam gestionada por Valve. Cada reseña se describe mediante el texto de la reseña, el identificador del juego al que pertenece la reseña, la opinión de la reseña (positiva o negativa) y el número de usuarios que consideran que la reseña fue útil.\n",
        "El archivo se encuentra como un archivo CSV comprimido con bzip2.\n",
        "\n",
        "2.   Cargar en el notebook de `Python` una muestra aleatoria del 0.4% de las reviews. Teniendo en cuenta que las columnas son en su orden: **`app_id:`** el identificador del juego al que pertenece la reseña, **`review_text:`** el texto de la reseña, **`review_score:`** la opinión de la reseña (positiva o negativa), **`review_votes:`** el número de usuarios que consideran que la reseña fue útil.\n",
        "**Nota:** Use la semilla 42, para obtener los mismos resultados.\n",
        "\n",
        "**Uso de la función lambda:**\n",
        "Una función lambda en Python es una pequeña función anónima que puede tener cualquier número de argumentos pero sólo una expresión. Se utilizan a menudo cuando se necesita una función corta para un corto período de tiempo, a menudo como argumento de funciones de orden superior (funciones que toman otras funciones como argumentos)\n",
        "\n",
        "3.   Se realiza una revisión preliminar de los comentarios\n",
        "*   Estadística descriptiva del score de los comentarios\n",
        "*   Convertir a string el texto de los comentarios\n",
        "*   Revisión de los comentarios - aumentar el ancho de la columna.\n",
        "*   Conteo del score de los comentarios\n",
        "\n",
        "4.   Preprocesamiento de los comentarios\n",
        "*   Limpiar los espacios en blanco del texto de los comentarios (`reviex_text`)\n",
        "*   En un nuevo dataframe eliminar los registros sin texto en los comentarios\n",
        "*   Los comentarios con score -1 los cambiaremos a 0, para ser más consistentes con los proyectos de machine learning.\n",
        "\n",
        "5.   Realización de la nube de palabras `Wordcloud`\n",
        "\n",
        "6.   Eliminar registros que en el texto del comentario incluyan \"Early Access Review\", porque no incluyen comentarios.\n",
        "\n",
        "7.   Eliminar registros que en el texto del comentario aparecen como \"NaN\", porque no incluyen comentarios.\n",
        "\n",
        "8.   Eliminar registros que tengan valores iguales en review_text y review_score, porque se consideran registros duplicados.\n",
        "\n",
        "\n",
        "\n",
        "\n",
        "\n"
      ],
      "metadata": {
        "id": "CvivcuF5YjkC"
      }
    }
  ]
}